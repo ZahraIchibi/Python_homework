{
 "cells": [
  {
   "cell_type": "markdown",
   "metadata": {
    "colab_type": "text",
    "id": "xU6yP998gFSq"
   },
   "source": [
    "Before you turn this problem in, make sure everything runs as expected. First, **restart the kernel** (in the menubar, select Kernel$\\rightarrow$Restart) and then **run all cells** (in the menubar, select Cell$\\rightarrow$Run All).\n",
    "\n",
    "Make sure you fill in any place that says `YOUR CODE HERE` or \"YOUR ANSWER HERE\", as well as your name and collaborators below:"
   ]
  },
  {
   "cell_type": "code",
   "execution_count": 0,
   "metadata": {
    "colab": {},
    "colab_type": "code",
    "collapsed": true,
    "id": "Rw4Dj3vGgFS0"
   },
   "outputs": [],
   "source": [
    "NAME = \"Zebra Shark Zahra\""
   ]
  },
  {
   "cell_type": "markdown",
   "metadata": {
    "colab_type": "text",
    "id": "_Oa4dcvdgFTL"
   },
   "source": [
    "---"
   ]
  },
  {
   "cell_type": "markdown",
   "metadata": {
    "colab_type": "text",
    "deletable": false,
    "editable": false,
    "id": "yWELPtzCgFTP",
    "nbgrader": {
     "checksum": "c06998fac8bb5ce0616b1a4e9f83f3c1",
     "grade": false,
     "grade_id": "cell-90e71a34be5a3e42",
     "locked": true,
     "schema_version": 1,
     "solution": false
    }
   },
   "source": [
    "# Homework 1: Python skills\n",
    "\n",
    "This homework exercise is meant to acclimate students with working knowledge of Python's syntax. Neither the course nor this exercise is intented to teach Python in a Computer Science studies context. Please also complete the intro_to_pandas notebook at the following link. Students are highly encouraged to take a look at ALL of notebooks here, though only the intro_to_pandas notebook is mandatory.\n",
    "\n",
    "https://github.com/DeltaAnalytics/machine_learning_for_good/tree/master/module_1_introduction\n",
    "\n",
    "The functions in this file are imcomplete, but have documentation strings that explain how they should work. Your job is to edit this file to write the bodies of these functions. You may use Google you look up strategies to complete the functions, but you may not copy and paste answers from the internet."
   ]
  },
  {
   "cell_type": "markdown",
   "metadata": {
    "colab_type": "text",
    "deletable": false,
    "editable": false,
    "id": "7AyxRTn6gFTX",
    "nbgrader": {
     "checksum": "037960639731cab028030c076de0ecba",
     "grade": false,
     "grade_id": "cell-d6e78740d766825e",
     "locked": true,
     "schema_version": 1,
     "solution": false
    }
   },
   "source": [
    "### Basic operations\n",
    "\n",
    "You should be able to complete this portion of the homework with basic integer, float, and string operations in Python. Note that the number_list and word_list variables referenced throughout are [-5, 6, 4, 8, 15, 16, 23, 42, 2, 7] and [ \"What\", \"about\", \"the\", \"Spam\", \"sausage\", \"spam\", \"spam\", \"bacon\", \"spam\", \"tomato\", \"and\", \"spam\"] respectively."
   ]
  },
  {
   "cell_type": "code",
   "execution_count": 32,
   "metadata": {
    "colab": {},
    "colab_type": "code",
    "collapsed": false,
    "deletable": false,
    "id": "zHiWAAF3gFTc",
    "nbgrader": {
     "checksum": "d1853ff74dc88a4750aab52e8a0713e0",
     "grade": false,
     "grade_id": "cell-718e69e9a854221e",
     "locked": false,
     "schema_version": 1,
     "solution": true
    }
   },
   "outputs": [
    {
     "name": "stdout",
     "output_type": "stream",
     "text": [
      "[-5, 15, 23, 7]\n"
     ]
    }
   ],
   "source": [
    "def all_odd(number_list):\n",
    "    list=[]\n",
    "    for i in range(len(number_list)) :\n",
    "        if number_list[i] % 2 != 0 :\n",
    "            list.append(number_list[i])\n",
    "    return list\n",
    "list = [-5, 6, 4, 8, 15, 16, 23, 42, 2, 7]\n",
    "print(all_odd(list))"
   ]
  },
  {
   "cell_type": "code",
   "execution_count": 0,
   "metadata": {
    "colab": {},
    "colab_type": "code",
    "collapsed": true,
    "deletable": false,
    "editable": false,
    "id": "JIBa3S3mgFTy",
    "nbgrader": {
     "checksum": "e800b19cf9ba768dbd5829d789b73bdb",
     "grade": true,
     "grade_id": "cell-a201a353f244090a",
     "locked": true,
     "points": 1,
     "schema_version": 1,
     "solution": false
    }
   },
   "outputs": [],
   "source": [
    "####################################INTENTIONALLY BLANK FOR TESTING####################################"
   ]
  },
  {
   "cell_type": "code",
   "execution_count": 1,
   "metadata": {
    "colab": {},
    "colab_type": "code",
    "collapsed": false,
    "deletable": false,
    "id": "Abl3gNiYgFUC",
    "nbgrader": {
     "checksum": "f74af409f44ee1a120c473da0231d223",
     "grade": false,
     "grade_id": "cell-0e6c6d55d47a9753",
     "locked": false,
     "schema_version": 1,
     "solution": true
    }
   },
   "outputs": [
    {
     "name": "stdout",
     "output_type": "stream",
     "text": [
      "[6, 4, 8, 16, 42, 2]\n"
     ]
    },
    {
     "ename": "NotImplementedError",
     "evalue": "",
     "output_type": "error",
     "traceback": [
      "\u001b[0;31m---------------------------------------------------------------------------\u001b[0m",
      "\u001b[0;31mNotImplementedError\u001b[0m                       Traceback (most recent call last)",
      "\u001b[0;32m<ipython-input-1-4e1ccd44acd3>\u001b[0m in \u001b[0;36m<module>\u001b[0;34m()\u001b[0m\n\u001b[1;32m     16\u001b[0m \u001b[0mlist\u001b[0m \u001b[1;33m=\u001b[0m \u001b[1;33m[\u001b[0m\u001b[1;33m-\u001b[0m\u001b[1;36m5\u001b[0m\u001b[1;33m,\u001b[0m \u001b[1;36m6\u001b[0m\u001b[1;33m,\u001b[0m \u001b[1;36m4\u001b[0m\u001b[1;33m,\u001b[0m \u001b[1;36m8\u001b[0m\u001b[1;33m,\u001b[0m \u001b[1;36m15\u001b[0m\u001b[1;33m,\u001b[0m \u001b[1;36m16\u001b[0m\u001b[1;33m,\u001b[0m \u001b[1;36m23\u001b[0m\u001b[1;33m,\u001b[0m \u001b[1;36m42\u001b[0m\u001b[1;33m,\u001b[0m \u001b[1;36m2\u001b[0m\u001b[1;33m,\u001b[0m \u001b[1;36m7\u001b[0m\u001b[1;33m]\u001b[0m\u001b[1;33m\u001b[0m\u001b[0m\n\u001b[1;32m     17\u001b[0m \u001b[0mprint\u001b[0m\u001b[1;33m(\u001b[0m\u001b[0mall_even\u001b[0m\u001b[1;33m(\u001b[0m\u001b[0mlist\u001b[0m\u001b[1;33m)\u001b[0m\u001b[1;33m)\u001b[0m\u001b[1;33m\u001b[0m\u001b[0m\n\u001b[0;32m---> 18\u001b[0;31m \u001b[1;32mraise\u001b[0m \u001b[0mNotImplementedError\u001b[0m\u001b[1;33m(\u001b[0m\u001b[1;33m)\u001b[0m\u001b[1;33m\u001b[0m\u001b[0m\n\u001b[0m",
      "\u001b[0;31mNotImplementedError\u001b[0m: "
     ]
    }
   ],
   "source": [
    "def all_even(number_list):\n",
    "    \"\"\"\n",
    "    Complete the function so it takes a list of numbers and returns a new list \n",
    "    with only the even numbers.\n",
    "\n",
    "    For example:\n",
    "        >>> all_even(number_list)\n",
    "        [6, 4, 8, 16, 42, 2]\n",
    "        \"\"\"\n",
    "# YOUR CODE HERE\n",
    "    list=[]\n",
    "    for i in range(len(number_list)) :\n",
    "        if number_list[i] % 2 == 0 :\n",
    "            list.append(number_list[i])\n",
    "    return list\n",
    "list = [-5, 6, 4, 8, 15, 16, 23, 42, 2, 7]\n",
    "print(all_even(list))\n",
    "raise NotImplementedError()"
   ]
  },
  {
   "cell_type": "code",
   "execution_count": 0,
   "metadata": {
    "colab": {},
    "colab_type": "code",
    "collapsed": true,
    "deletable": false,
    "editable": false,
    "id": "Uh89Qs9VgFUU",
    "nbgrader": {
     "checksum": "0d4beb1fe2bb80f6a79e80bb4b1ff097",
     "grade": true,
     "grade_id": "cell-d3624440658f0ac4",
     "locked": true,
     "points": 1,
     "schema_version": 1,
     "solution": false
    }
   },
   "outputs": [],
   "source": [
    "####################################INTENTIONALLY BLANK FOR TESTING####################################"
   ]
  },
  {
   "cell_type": "code",
   "execution_count": 0,
   "metadata": {
    "colab": {},
    "colab_type": "code",
    "collapsed": true,
    "deletable": false,
    "id": "od_R9r98gFUj",
    "nbgrader": {
     "checksum": "4040250fbc6c80febeb37931b7379b95",
     "grade": false,
     "grade_id": "cell-5fab3ee35e502b3d",
     "locked": false,
     "schema_version": 1,
     "solution": true
    }
   },
   "outputs": [],
   "source": [
    "def long_words(word_list):\n",
    "    \"\"\"Complete the function so it takes a list of strings and returns a new \n",
    "    list with all strings of length 4 or greater.\n",
    "\n",
    "    For example:\n",
    "        >>> long_words(word_list)\n",
    "        ['What', 'about', 'Spam', 'sausage', 'spam', 'spam', 'bacon', 'spam', 'tomato', 'spam']\n",
    "    \"\"\"\n",
    "# YOUR CODE HERE\n",
    "    list=[]\n",
    "    for i in range(len(word_list)) :\n",
    "      if len(word_list[i])>= 4 :\n",
    "          list.append(word_list[i])\n",
    "    return list\n",
    "list= [\"What\", \"about\", \"the\", \"Spam\", \"sausage\", \"spam\", \"spam\", \"bacon\", \"spam\", \"tomato\", \"and\", \"spam\"]\n",
    "print(long_words(list))\n",
    "raise NotImplementedError()"
   ]
  },
  {
   "cell_type": "code",
   "execution_count": 0,
   "metadata": {
    "colab": {},
    "colab_type": "code",
    "collapsed": true,
    "deletable": false,
    "editable": false,
    "id": "z0IqtXWQgFU8",
    "nbgrader": {
     "checksum": "c3254c291c5e4228f802b8d3b59ece12",
     "grade": true,
     "grade_id": "cell-082fff19b482225f",
     "locked": true,
     "points": 1,
     "schema_version": 1,
     "solution": false
    }
   },
   "outputs": [],
   "source": [
    "####################################INTENTIONALLY BLANK FOR TESTING####################################"
   ]
  },
  {
   "cell_type": "code",
   "execution_count": 0,
   "metadata": {
    "colab": {},
    "colab_type": "code",
    "collapsed": true,
    "deletable": false,
    "id": "VH7JDAw5gFVV",
    "nbgrader": {
     "checksum": "76d3f4a350215bec1235a2f195d2cce1",
     "grade": false,
     "grade_id": "cell-32db7423da00a68e",
     "locked": false,
     "schema_version": 1,
     "solution": true
    }
   },
   "outputs": [],
   "source": [
    "def smallest(number_list):\n",
    "    \"\"\"\n",
    "    Complete the function so it finds the smallest element in a list of integers and returns it.\n",
    "    \n",
    "    For example:\n",
    "        >>> smallest(number_list)\n",
    "        -5\n",
    "    \"\"\"\n",
    "# YOUR CODE HERE\n",
    "    small= number_list[0]\n",
    "    for i in range(len(number_list)):\n",
    "        \n",
    "        if number_list[i]<small :\n",
    "            small= number_list[i]\n",
    "    return small\n",
    "list = [-5, 6, 4, 8, 15, 16, 23, 42, 2, 7]\n",
    "print(smallest(list))\n",
    "          \n",
    "raise NotImplementedError()"
   ]
  },
  {
   "cell_type": "code",
   "execution_count": 0,
   "metadata": {
    "colab": {},
    "colab_type": "code",
    "collapsed": true,
    "deletable": false,
    "editable": false,
    "id": "v5SmxmdrgFV8",
    "nbgrader": {
     "checksum": "565d996606e674805556f3f65fbabd6c",
     "grade": true,
     "grade_id": "cell-6cd34bada909a524",
     "locked": true,
     "points": 1,
     "schema_version": 1,
     "solution": false
    }
   },
   "outputs": [],
   "source": [
    "####################################INTENTIONALLY BLANK FOR TESTING####################################"
   ]
  },
  {
   "cell_type": "code",
   "execution_count": 0,
   "metadata": {
    "colab": {},
    "colab_type": "code",
    "collapsed": true,
    "deletable": false,
    "id": "unCMF8yRgFWV",
    "nbgrader": {
     "checksum": "3b6c393b0be8d01442cef820d5c665eb",
     "grade": false,
     "grade_id": "cell-760de9b0347515be",
     "locked": false,
     "schema_version": 1,
     "solution": true
    }
   },
   "outputs": [],
   "source": [
    "def largest(number_list):\n",
    "    \"\"\"\n",
    "    Complete the function so it finds the largest element in a list of \n",
    "    integers and returns it.\n",
    "    \n",
    "    For example:\n",
    "        >>> largest(number_list)\n",
    "        42\n",
    "    \"\"\"\n",
    "# YOUR CODE HERE\n",
    "    largest = number_list[0]\n",
    "    for i in range(len(number_list)):\n",
    "        \n",
    "        if number_list[i]>largest :\n",
    "            largest= number_list[i]\n",
    "    return largest\n",
    "list = [-5, 6, 4, 8, 15, 16, 23, 42, 2, 7]\n",
    "print(largest(list))\n",
    "          \n",
    "raise NotImplementedError()"
   ]
  },
  {
   "cell_type": "code",
   "execution_count": 0,
   "metadata": {
    "colab": {},
    "colab_type": "code",
    "collapsed": true,
    "deletable": false,
    "editable": false,
    "id": "jtPoVtCngFWp",
    "nbgrader": {
     "checksum": "3bc84a7eed5b42e2c9071ef83fe7d971",
     "grade": true,
     "grade_id": "cell-80c372b240567d51",
     "locked": true,
     "points": 1,
     "schema_version": 1,
     "solution": false
    }
   },
   "outputs": [],
   "source": [
    "####################################INTENTIONALLY BLANK FOR TESTING####################################"
   ]
  },
  {
   "cell_type": "code",
   "execution_count": 0,
   "metadata": {
    "colab": {},
    "colab_type": "code",
    "collapsed": true,
    "deletable": false,
    "id": "zDEqCBLegFXE",
    "nbgrader": {
     "checksum": "42dd856f3eab69ddaf2e17239546a0ef",
     "grade": false,
     "grade_id": "cell-3a91fc78f968a4fc",
     "locked": false,
     "schema_version": 1,
     "solution": true
    }
   },
   "outputs": [],
   "source": [
    "def halvesies(number_list):\n",
    "    \"\"\"\n",
    "    Complete the function so it takes a list of numbers and returns a new list \n",
    "    of all those numbers divided by two.\n",
    "    \n",
    "    For example:\n",
    "        >>> halvesies(number_list)\n",
    "        [-2.5, 3.0, 2.0, 4.0, 7.5, 8.0, 11.5, 21.0, 1.0, 3.5]\n",
    "    \"\"\"\n",
    "# YOUR CODE HERE\n",
    "    list=[]\n",
    "    for i in range(len(number_list)) :\n",
    "        list.append(number_list[i]/2)\n",
    "    return list\n",
    "list = [-5, 6, 4, 8, 15, 16, 23, 42, 2, 7]\n",
    "print(halvesies(list))\n",
    "raise NotImplementedError()"
   ]
  },
  {
   "cell_type": "code",
   "execution_count": 0,
   "metadata": {
    "colab": {},
    "colab_type": "code",
    "collapsed": true,
    "deletable": false,
    "editable": false,
    "id": "HkZjXKwhgFXr",
    "nbgrader": {
     "checksum": "70356c1104126d2b1a18012cdd68777a",
     "grade": true,
     "grade_id": "cell-e92d15aa2d302876",
     "locked": true,
     "points": 1,
     "schema_version": 1,
     "solution": false
    }
   },
   "outputs": [],
   "source": [
    "####################################INTENTIONALLY BLANK FOR TESTING####################################"
   ]
  },
  {
   "cell_type": "code",
   "execution_count": 33,
   "metadata": {
    "colab": {},
    "colab_type": "code",
    "collapsed": false,
    "deletable": false,
    "id": "Ck7MeB5mgFYA",
    "nbgrader": {
     "checksum": "c753fe75da347f6af56b129840075c68",
     "grade": false,
     "grade_id": "cell-c2b1ee18b787e16a",
     "locked": false,
     "schema_version": 1,
     "solution": true
    }
   },
   "outputs": [
    {
     "name": "stdout",
     "output_type": "stream",
     "text": [
      "[4, 5, 3, 4, 7, 4, 4, 5, 4, 6, 3, 4]\n"
     ]
    },
    {
     "ename": "NotImplementedError",
     "evalue": "",
     "output_type": "error",
     "traceback": [
      "\u001b[0;31m---------------------------------------------------------------------------\u001b[0m",
      "\u001b[0;31mNotImplementedError\u001b[0m                       Traceback (most recent call last)",
      "\u001b[0;32m<ipython-input-33-c190c474b73e>\u001b[0m in \u001b[0;36m<module>\u001b[0;34m()\u001b[0m\n\u001b[1;32m     15\u001b[0m \u001b[0mlist\u001b[0m\u001b[1;33m=\u001b[0m \u001b[1;33m[\u001b[0m\u001b[1;34m\"What\"\u001b[0m\u001b[1;33m,\u001b[0m \u001b[1;34m\"about\"\u001b[0m\u001b[1;33m,\u001b[0m \u001b[1;34m\"the\"\u001b[0m\u001b[1;33m,\u001b[0m \u001b[1;34m\"Spam\"\u001b[0m\u001b[1;33m,\u001b[0m \u001b[1;34m\"sausage\"\u001b[0m\u001b[1;33m,\u001b[0m \u001b[1;34m\"spam\"\u001b[0m\u001b[1;33m,\u001b[0m \u001b[1;34m\"spam\"\u001b[0m\u001b[1;33m,\u001b[0m \u001b[1;34m\"bacon\"\u001b[0m\u001b[1;33m,\u001b[0m \u001b[1;34m\"spam\"\u001b[0m\u001b[1;33m,\u001b[0m \u001b[1;34m\"tomato\"\u001b[0m\u001b[1;33m,\u001b[0m \u001b[1;34m\"and\"\u001b[0m\u001b[1;33m,\u001b[0m \u001b[1;34m\"spam\"\u001b[0m\u001b[1;33m]\u001b[0m\u001b[1;33m\u001b[0m\u001b[0m\n\u001b[1;32m     16\u001b[0m \u001b[0mprint\u001b[0m\u001b[1;33m(\u001b[0m\u001b[0mword_lengths\u001b[0m\u001b[1;33m(\u001b[0m\u001b[0mlist\u001b[0m\u001b[1;33m)\u001b[0m\u001b[1;33m)\u001b[0m\u001b[1;33m\u001b[0m\u001b[0m\n\u001b[0;32m---> 17\u001b[0;31m \u001b[1;32mraise\u001b[0m \u001b[0mNotImplementedError\u001b[0m\u001b[1;33m(\u001b[0m\u001b[1;33m)\u001b[0m\u001b[1;33m\u001b[0m\u001b[0m\n\u001b[0m",
      "\u001b[0;31mNotImplementedError\u001b[0m: "
     ]
    }
   ],
   "source": [
    "def word_lengths(word_list):\n",
    "    \"\"\"\n",
    "    Complete the function so it takes a list of words and returns a \n",
    "    list of all the lengths of those words.\n",
    "\n",
    "    For example:\n",
    "        >>> word_lengths(word_list)\n",
    "        [4, 5, 3, 4, 7, 4, 4, 5, 4, 6, 3, 4]\n",
    "    \"\"\"\n",
    "# YOUR CODE HERE\n",
    "    list=[]\n",
    "    for i in range(len(word_list)) :\n",
    "        list.append(len(word_list[i]))\n",
    "    return list\n",
    "list= [\"What\", \"about\", \"the\", \"Spam\", \"sausage\", \"spam\", \"spam\", \"bacon\", \"spam\", \"tomato\", \"and\", \"spam\"]\n",
    "print(word_lengths(list))\n",
    "raise NotImplementedError()"
   ]
  },
  {
   "cell_type": "code",
   "execution_count": 0,
   "metadata": {
    "colab": {},
    "colab_type": "code",
    "collapsed": true,
    "deletable": false,
    "editable": false,
    "id": "DRKGXVopgFYr",
    "nbgrader": {
     "checksum": "a3388481ad14ae6be229b28425e9fee8",
     "grade": true,
     "grade_id": "cell-f7cd47b24d9d3cae",
     "locked": true,
     "points": 1,
     "schema_version": 1,
     "solution": false
    }
   },
   "outputs": [],
   "source": [
    "####################################INTENTIONALLY BLANK FOR TESTING####################################"
   ]
  },
  {
   "cell_type": "code",
   "execution_count": 34,
   "metadata": {
    "colab": {},
    "colab_type": "code",
    "collapsed": false,
    "deletable": false,
    "id": "sq9Jt0MSgFY7",
    "nbgrader": {
     "checksum": "99793bda33aabd6e2d45188e2fa8e1c9",
     "grade": false,
     "grade_id": "cell-30d627981a261d27",
     "locked": false,
     "schema_version": 1,
     "solution": true
    }
   },
   "outputs": [
    {
     "name": "stdout",
     "output_type": "stream",
     "text": [
      "118\n"
     ]
    },
    {
     "ename": "NotImplementedError",
     "evalue": "",
     "output_type": "error",
     "traceback": [
      "\u001b[0;31m---------------------------------------------------------------------------\u001b[0m",
      "\u001b[0;31mNotImplementedError\u001b[0m                       Traceback (most recent call last)",
      "\u001b[0;32m<ipython-input-34-3e9c52fe766f>\u001b[0m in \u001b[0;36m<module>\u001b[0;34m()\u001b[0m\n\u001b[1;32m     15\u001b[0m \u001b[0mlist\u001b[0m \u001b[1;33m=\u001b[0m \u001b[1;33m[\u001b[0m\u001b[1;33m-\u001b[0m\u001b[1;36m5\u001b[0m\u001b[1;33m,\u001b[0m \u001b[1;36m6\u001b[0m\u001b[1;33m,\u001b[0m \u001b[1;36m4\u001b[0m\u001b[1;33m,\u001b[0m \u001b[1;36m8\u001b[0m\u001b[1;33m,\u001b[0m \u001b[1;36m15\u001b[0m\u001b[1;33m,\u001b[0m \u001b[1;36m16\u001b[0m\u001b[1;33m,\u001b[0m \u001b[1;36m23\u001b[0m\u001b[1;33m,\u001b[0m \u001b[1;36m42\u001b[0m\u001b[1;33m,\u001b[0m \u001b[1;36m2\u001b[0m\u001b[1;33m,\u001b[0m \u001b[1;36m7\u001b[0m\u001b[1;33m]\u001b[0m\u001b[1;33m\u001b[0m\u001b[0m\n\u001b[1;32m     16\u001b[0m \u001b[0mprint\u001b[0m\u001b[1;33m(\u001b[0m\u001b[0msum_numbers\u001b[0m\u001b[1;33m(\u001b[0m\u001b[0mlist\u001b[0m\u001b[1;33m)\u001b[0m\u001b[1;33m)\u001b[0m\u001b[1;33m\u001b[0m\u001b[0m\n\u001b[0;32m---> 17\u001b[0;31m \u001b[1;32mraise\u001b[0m \u001b[0mNotImplementedError\u001b[0m\u001b[1;33m(\u001b[0m\u001b[1;33m)\u001b[0m\u001b[1;33m\u001b[0m\u001b[0m\n\u001b[0m",
      "\u001b[0;31mNotImplementedError\u001b[0m: "
     ]
    }
   ],
   "source": [
    "def sum_numbers(number_list):\n",
    "    \"\"\"\n",
    "    Complete the function (using iteration) so it sums all the numbers in a list.\n",
    "\n",
    "    For example:\n",
    "        >>> sum_numbers(number_list)\n",
    "        118\n",
    "\n",
    "    \"\"\"\n",
    "# YOUR CODE HERE\n",
    "    sum=0\n",
    "    for i in range(len(number_list)) :\n",
    "        sum+=number_list[i]\n",
    "    return sum\n",
    "list = [-5, 6, 4, 8, 15, 16, 23, 42, 2, 7]\n",
    "print(sum_numbers(list))\n",
    "raise NotImplementedError()"
   ]
  },
  {
   "cell_type": "code",
   "execution_count": 0,
   "metadata": {
    "colab": {},
    "colab_type": "code",
    "collapsed": true,
    "deletable": false,
    "editable": false,
    "id": "ZRDYQ3ZCgFZJ",
    "nbgrader": {
     "checksum": "0306d6a18b8ffa7d1f7a67af7a2e4892",
     "grade": true,
     "grade_id": "cell-3116d2183245df78",
     "locked": true,
     "points": 1,
     "schema_version": 1,
     "solution": false
    }
   },
   "outputs": [],
   "source": [
    "####################################INTENTIONALLY BLANK FOR TESTING####################################"
   ]
  },
  {
   "cell_type": "code",
   "execution_count": 35,
   "metadata": {
    "colab": {},
    "colab_type": "code",
    "collapsed": false,
    "deletable": false,
    "id": "PUjQYPzmgFZW",
    "nbgrader": {
     "checksum": "875b9b0b8606281a993f0b6e9abe2056",
     "grade": false,
     "grade_id": "cell-bde13ae8e6e08a27",
     "locked": false,
     "schema_version": 1,
     "solution": true
    }
   },
   "outputs": [
    {
     "name": "stdout",
     "output_type": "stream",
     "text": [
      "-3115929600\n"
     ]
    },
    {
     "ename": "NotImplementedError",
     "evalue": "",
     "output_type": "error",
     "traceback": [
      "\u001b[0;31m---------------------------------------------------------------------------\u001b[0m",
      "\u001b[0;31mNotImplementedError\u001b[0m                       Traceback (most recent call last)",
      "\u001b[0;32m<ipython-input-35-6fbb5d16de6e>\u001b[0m in \u001b[0;36m<module>\u001b[0;34m()\u001b[0m\n\u001b[1;32m     15\u001b[0m \u001b[0mlist\u001b[0m \u001b[1;33m=\u001b[0m \u001b[1;33m[\u001b[0m\u001b[1;33m-\u001b[0m\u001b[1;36m5\u001b[0m\u001b[1;33m,\u001b[0m \u001b[1;36m6\u001b[0m\u001b[1;33m,\u001b[0m \u001b[1;36m4\u001b[0m\u001b[1;33m,\u001b[0m \u001b[1;36m8\u001b[0m\u001b[1;33m,\u001b[0m \u001b[1;36m15\u001b[0m\u001b[1;33m,\u001b[0m \u001b[1;36m16\u001b[0m\u001b[1;33m,\u001b[0m \u001b[1;36m23\u001b[0m\u001b[1;33m,\u001b[0m \u001b[1;36m42\u001b[0m\u001b[1;33m,\u001b[0m \u001b[1;36m2\u001b[0m\u001b[1;33m,\u001b[0m \u001b[1;36m7\u001b[0m\u001b[1;33m]\u001b[0m\u001b[1;33m\u001b[0m\u001b[0m\n\u001b[1;32m     16\u001b[0m \u001b[0mprint\u001b[0m\u001b[1;33m(\u001b[0m\u001b[0mmult_numbers\u001b[0m\u001b[1;33m(\u001b[0m\u001b[0mlist\u001b[0m\u001b[1;33m)\u001b[0m\u001b[1;33m)\u001b[0m\u001b[1;33m\u001b[0m\u001b[0m\n\u001b[0;32m---> 17\u001b[0;31m \u001b[1;32mraise\u001b[0m \u001b[0mNotImplementedError\u001b[0m\u001b[1;33m(\u001b[0m\u001b[1;33m)\u001b[0m\u001b[1;33m\u001b[0m\u001b[0m\n\u001b[0m",
      "\u001b[0;31mNotImplementedError\u001b[0m: "
     ]
    }
   ],
   "source": [
    "def mult_numbers(number_list):\n",
    "    \"\"\"\n",
    "    Complete the function so it multiplies all the numbers in a list together.\n",
    "\n",
    "    For example:\n",
    "        >>> mult_numbers(number_list)\n",
    "        -3115929600\n",
    "\n",
    "    \"\"\"\n",
    "# YOUR CODE HERE\n",
    "    mult=1\n",
    "    for i in range(len(number_list)) :\n",
    "        mult*=number_list[i]\n",
    "    return mult\n",
    "list = [-5, 6, 4, 8, 15, 16, 23, 42, 2, 7]\n",
    "print(mult_numbers(list))\n",
    "raise NotImplementedError()"
   ]
  },
  {
   "cell_type": "code",
   "execution_count": 0,
   "metadata": {
    "colab": {},
    "colab_type": "code",
    "collapsed": true,
    "deletable": false,
    "editable": false,
    "id": "df6-IB8vgFZk",
    "nbgrader": {
     "checksum": "bd28c5f0f98856b65b84a299652ef192",
     "grade": true,
     "grade_id": "cell-74b7a121ff3db201",
     "locked": true,
     "points": 1,
     "schema_version": 1,
     "solution": false
    }
   },
   "outputs": [],
   "source": [
    "####################################INTENTIONALLY BLANK FOR TESTING####################################"
   ]
  },
  {
   "cell_type": "code",
   "execution_count": 36,
   "metadata": {
    "colab": {},
    "colab_type": "code",
    "collapsed": false,
    "deletable": false,
    "id": "ddiLcGQvgFZx",
    "nbgrader": {
     "checksum": "56a6e18dcc66cfbd014f4803f4122c88",
     "grade": false,
     "grade_id": "cell-d863e2f2d4249bf5",
     "locked": false,
     "schema_version": 1,
     "solution": true
    }
   },
   "outputs": [
    {
     "name": "stdout",
     "output_type": "stream",
     "text": [
      "WhatabouttheSpamsausagespamspambaconspamtomatoandspam\n"
     ]
    },
    {
     "ename": "NotImplementedError",
     "evalue": "",
     "output_type": "error",
     "traceback": [
      "\u001b[0;31m---------------------------------------------------------------------------\u001b[0m",
      "\u001b[0;31mNotImplementedError\u001b[0m                       Traceback (most recent call last)",
      "\u001b[0;32m<ipython-input-36-872f75a1c832>\u001b[0m in \u001b[0;36m<module>\u001b[0;34m()\u001b[0m\n\u001b[1;32m     14\u001b[0m \u001b[0mlist\u001b[0m\u001b[1;33m=\u001b[0m \u001b[1;33m[\u001b[0m\u001b[1;34m\"What\"\u001b[0m\u001b[1;33m,\u001b[0m \u001b[1;34m\"about\"\u001b[0m\u001b[1;33m,\u001b[0m \u001b[1;34m\"the\"\u001b[0m\u001b[1;33m,\u001b[0m \u001b[1;34m\"Spam\"\u001b[0m\u001b[1;33m,\u001b[0m \u001b[1;34m\"sausage\"\u001b[0m\u001b[1;33m,\u001b[0m \u001b[1;34m\"spam\"\u001b[0m\u001b[1;33m,\u001b[0m \u001b[1;34m\"spam\"\u001b[0m\u001b[1;33m,\u001b[0m \u001b[1;34m\"bacon\"\u001b[0m\u001b[1;33m,\u001b[0m \u001b[1;34m\"spam\"\u001b[0m\u001b[1;33m,\u001b[0m \u001b[1;34m\"tomato\"\u001b[0m\u001b[1;33m,\u001b[0m \u001b[1;34m\"and\"\u001b[0m\u001b[1;33m,\u001b[0m \u001b[1;34m\"spam\"\u001b[0m\u001b[1;33m]\u001b[0m\u001b[1;33m\u001b[0m\u001b[0m\n\u001b[1;32m     15\u001b[0m \u001b[0mprint\u001b[0m\u001b[1;33m(\u001b[0m\u001b[0mjoin_strings\u001b[0m\u001b[1;33m(\u001b[0m\u001b[0mlist\u001b[0m\u001b[1;33m)\u001b[0m\u001b[1;33m)\u001b[0m\u001b[1;33m\u001b[0m\u001b[0m\n\u001b[0;32m---> 16\u001b[0;31m \u001b[1;32mraise\u001b[0m \u001b[0mNotImplementedError\u001b[0m\u001b[1;33m(\u001b[0m\u001b[1;33m)\u001b[0m\u001b[1;33m\u001b[0m\u001b[0m\n\u001b[0m",
      "\u001b[0;31mNotImplementedError\u001b[0m: "
     ]
    }
   ],
   "source": [
    "def join_strings(word_list):\n",
    "    \"\"\"Complete the function so it joins all the strings in a list together \n",
    "    (without using the join method) and returns a single string.\n",
    "\n",
    "    For example:\n",
    "        >>> join_strings(word_list)\n",
    "        'WhatabouttheSpamsausagespamspambaconspamtomatoandspam'\n",
    "    \"\"\"\n",
    "# YOUR CODE HERE\n",
    "    join=\"\"\n",
    "    for i in range(len(word_list)) :\n",
    "        join += word_list[i]\n",
    "    return join\n",
    "list= [\"What\", \"about\", \"the\", \"Spam\", \"sausage\", \"spam\", \"spam\", \"bacon\", \"spam\", \"tomato\", \"and\", \"spam\"]\n",
    "print(join_strings(list))\n",
    "raise NotImplementedError()"
   ]
  },
  {
   "cell_type": "code",
   "execution_count": 0,
   "metadata": {
    "colab": {},
    "colab_type": "code",
    "collapsed": true,
    "deletable": false,
    "editable": false,
    "id": "lj2MWyjlgFZ9",
    "nbgrader": {
     "checksum": "e53adddc1e1b2d806470c77575dfc3e0",
     "grade": true,
     "grade_id": "cell-90e51adc0dd03ef2",
     "locked": true,
     "points": 1,
     "schema_version": 1,
     "solution": false
    }
   },
   "outputs": [],
   "source": [
    "####################################INTENTIONALLY BLANK FOR TESTING####################################"
   ]
  },
  {
   "cell_type": "code",
   "execution_count": 37,
   "metadata": {
    "colab": {},
    "colab_type": "code",
    "collapsed": false,
    "deletable": false,
    "id": "Z4LSA1IvgFaI",
    "nbgrader": {
     "checksum": "e970e76ec170fee09810ebab908e66c6",
     "grade": false,
     "grade_id": "cell-0dc43ab4c3d5f7ad",
     "locked": false,
     "schema_version": 1,
     "solution": true
    }
   },
   "outputs": [
    {
     "name": "stdout",
     "output_type": "stream",
     "text": [
      "11.8\n"
     ]
    },
    {
     "ename": "NotImplementedError",
     "evalue": "",
     "output_type": "error",
     "traceback": [
      "\u001b[0;31m---------------------------------------------------------------------------\u001b[0m",
      "\u001b[0;31mNotImplementedError\u001b[0m                       Traceback (most recent call last)",
      "\u001b[0;32m<ipython-input-37-2decec8c1c4e>\u001b[0m in \u001b[0;36m<module>\u001b[0;34m()\u001b[0m\n\u001b[1;32m     16\u001b[0m \u001b[0mlist\u001b[0m \u001b[1;33m=\u001b[0m \u001b[1;33m[\u001b[0m\u001b[1;33m-\u001b[0m\u001b[1;36m5\u001b[0m\u001b[1;33m,\u001b[0m \u001b[1;36m6\u001b[0m\u001b[1;33m,\u001b[0m \u001b[1;36m4\u001b[0m\u001b[1;33m,\u001b[0m \u001b[1;36m8\u001b[0m\u001b[1;33m,\u001b[0m \u001b[1;36m15\u001b[0m\u001b[1;33m,\u001b[0m \u001b[1;36m16\u001b[0m\u001b[1;33m,\u001b[0m \u001b[1;36m23\u001b[0m\u001b[1;33m,\u001b[0m \u001b[1;36m42\u001b[0m\u001b[1;33m,\u001b[0m \u001b[1;36m2\u001b[0m\u001b[1;33m,\u001b[0m \u001b[1;36m7\u001b[0m\u001b[1;33m]\u001b[0m\u001b[1;33m\u001b[0m\u001b[0m\n\u001b[1;32m     17\u001b[0m \u001b[0mprint\u001b[0m\u001b[1;33m(\u001b[0m\u001b[0maverage\u001b[0m\u001b[1;33m(\u001b[0m\u001b[0mlist\u001b[0m\u001b[1;33m)\u001b[0m\u001b[1;33m)\u001b[0m\u001b[1;33m\u001b[0m\u001b[0m\n\u001b[0;32m---> 18\u001b[0;31m \u001b[1;32mraise\u001b[0m \u001b[0mNotImplementedError\u001b[0m\u001b[1;33m(\u001b[0m\u001b[1;33m)\u001b[0m\u001b[1;33m\u001b[0m\u001b[0m\n\u001b[0m",
      "\u001b[0;31mNotImplementedError\u001b[0m: "
     ]
    }
   ],
   "source": [
    "def average(number_list):\n",
    "    \"\"\"\n",
    "    Complete the function so it takes a list of integers and \n",
    "    returns the average (without using python's built-in avg method)\n",
    "\n",
    "    For example:\n",
    "        >>> average(number_list)\n",
    "        11.8\n",
    "    \"\"\"\n",
    "# YOUR CODE HERE\n",
    "    sum=0\n",
    "    for i in range(len(number_list)) :\n",
    "        sum+=number_list[i]\n",
    "    avg=sum/len(number_list)\n",
    "    return avg\n",
    "list = [-5, 6, 4, 8, 15, 16, 23, 42, 2, 7]\n",
    "print(average(list))\n",
    "raise NotImplementedError()"
   ]
  },
  {
   "cell_type": "code",
   "execution_count": 0,
   "metadata": {
    "colab": {},
    "colab_type": "code",
    "collapsed": true,
    "deletable": false,
    "editable": false,
    "id": "aLRr1y9zgFmA",
    "nbgrader": {
     "checksum": "e9ed4c6816f63b20696a3585e58c54cf",
     "grade": true,
     "grade_id": "cell-f76c7deec802d188",
     "locked": true,
     "points": 1,
     "schema_version": 1,
     "solution": false
    }
   },
   "outputs": [],
   "source": [
    "####################################INTENTIONALLY BLANK FOR TESTING####################################"
   ]
  },
  {
   "cell_type": "markdown",
   "metadata": {
    "colab_type": "text",
    "deletable": false,
    "editable": false,
    "id": "WHjvR6lugFmN",
    "nbgrader": {
     "checksum": "f577792e4f1c0487f8891da86415371a",
     "grade": false,
     "grade_id": "cell-bb3f2cb68d0a896b",
     "locked": true,
     "schema_version": 1,
     "solution": false
    }
   },
   "source": [
    "### Data Structures\n",
    "\n",
    "You should be able to solve these problems using Python lists and dictionaries. Some of these problems could be solved with Python sets (a more advanced data type). If you've learned about sets, you may use them as well."
   ]
  },
  {
   "cell_type": "code",
   "execution_count": 38,
   "metadata": {
    "colab": {},
    "colab_type": "code",
    "collapsed": false,
    "deletable": false,
    "id": "ocbA9D_VgFmX",
    "nbgrader": {
     "checksum": "89e0652be7bfc727ba60a164a91965d1",
     "grade": false,
     "grade_id": "cell-6e4a2a83e1dfcdf7",
     "locked": false,
     "schema_version": 1,
     "solution": true
    }
   },
   "outputs": [
    {
     "name": "stdout",
     "output_type": "stream",
     "text": [
      "{'each': 1, 'word': 1, 'appears': 1, 'once': 1}\n",
      "{'rose': 3, 'is': 2, 'a': 2}\n",
      "{'Porcupine': 1, 'see,': 1, 'porcupine': 1, 'do.': 1}\n"
     ]
    },
    {
     "ename": "NotImplementedError",
     "evalue": "",
     "output_type": "error",
     "traceback": [
      "\u001b[0;31m---------------------------------------------------------------------------\u001b[0m",
      "\u001b[0;31mNotImplementedError\u001b[0m                       Traceback (most recent call last)",
      "\u001b[0;32m<ipython-input-38-f5991232893b>\u001b[0m in \u001b[0;36m<module>\u001b[0;34m()\u001b[0m\n\u001b[1;32m     32\u001b[0m \u001b[0mprint\u001b[0m\u001b[1;33m(\u001b[0m\u001b[0mcount_unique\u001b[0m\u001b[1;33m(\u001b[0m\u001b[1;34m\"rose is a rose is a rose\"\u001b[0m\u001b[1;33m)\u001b[0m\u001b[1;33m)\u001b[0m\u001b[1;33m\u001b[0m\u001b[0m\n\u001b[1;32m     33\u001b[0m \u001b[0mprint\u001b[0m\u001b[1;33m(\u001b[0m\u001b[0mcount_unique\u001b[0m\u001b[1;33m(\u001b[0m\u001b[1;34m\"Porcupine see, porcupine do.\"\u001b[0m\u001b[1;33m)\u001b[0m\u001b[1;33m)\u001b[0m\u001b[1;33m\u001b[0m\u001b[0m\n\u001b[0;32m---> 34\u001b[0;31m \u001b[1;32mraise\u001b[0m \u001b[0mNotImplementedError\u001b[0m\u001b[1;33m(\u001b[0m\u001b[1;33m)\u001b[0m\u001b[1;33m\u001b[0m\u001b[0m\n\u001b[0m",
      "\u001b[0;31mNotImplementedError\u001b[0m: "
     ]
    }
   ],
   "source": [
    "def count_unique(string1):\n",
    "    \"\"\"Count unique words in a string.\n",
    "    This function should take a single string and return a dictionary\n",
    "    that has all of the distinct words as keys, and the number of times\n",
    "    that word appears in the string\n",
    "    For example:\n",
    "        >>> print_dict(count_unique(\"each word appears once\"))\n",
    "        {'appears': 1, 'each': 1, 'once': 1, 'word': 1}\n",
    "  \n",
    "    Words that appear more than once should be counted each time:\n",
    "\n",
    "        >>> print_dict(count_unique(\"rose is a rose is a rose\"))\n",
    "        {'a': 2, 'is': 2, 'rose': 3}\n",
    "    \n",
    "    It's fine to consider punctuation part of a word (e.g., a comma\n",
    "    at the end of a word can be counted as part of that word) and\n",
    "    to consider differently-capitalized words as different:\n",
    "        >>> print_dict(count_unique(\"Porcupine see, porcupine do.\"))\n",
    "        {'Porcupine': 1, 'do.': 1, 'porcupine': 1, 'see,': 1}\n",
    "    \"\"\"\n",
    "# YOUR CODE HERE\n",
    "    words=[]\n",
    "    words=string1.split()\n",
    "    dict ={}\n",
    "    for i in range(len(words)) :\n",
    "        if ''.join(words[i]) not in dict :\n",
    "            dict[''.join(words[i])] = 1\n",
    "        else : dict[''.join(words[i])] += 1\n",
    "    return dict\n",
    "# print_dict not working for me\n",
    "print(count_unique(\"each word appears once\"))\n",
    "print(count_unique(\"rose is a rose is a rose\"))\n",
    "print(count_unique(\"Porcupine see, porcupine do.\"))\n",
    "raise NotImplementedError()"
   ]
  },
  {
   "cell_type": "code",
   "execution_count": 0,
   "metadata": {
    "colab": {},
    "colab_type": "code",
    "collapsed": true,
    "deletable": false,
    "editable": false,
    "id": "QGTWn86AgFoc",
    "nbgrader": {
     "checksum": "016de5bc7bbe876a00c6055476e54963",
     "grade": true,
     "grade_id": "cell-f0818786517aa930",
     "locked": true,
     "points": 1,
     "schema_version": 1,
     "solution": false
    }
   },
   "outputs": [],
   "source": [
    "####################################INTENTIONALLY BLANK FOR TESTING####################################"
   ]
  },
  {
   "cell_type": "code",
   "execution_count": 40,
   "metadata": {
    "colab": {},
    "colab_type": "code",
    "collapsed": false,
    "deletable": false,
    "id": "JWQLotbXgFo1",
    "nbgrader": {
     "checksum": "8557c388190a979275333f699246769c",
     "grade": false,
     "grade_id": "cell-de588784c35973c2",
     "locked": false,
     "schema_version": 1,
     "solution": true
    }
   },
   "outputs": [
    {
     "name": "stdout",
     "output_type": "stream",
     "text": [
      "[1, 2]\n",
      "[1, 1, 2, 2]\n",
      "[1, 1, 2, 2]\n"
     ]
    },
    {
     "ename": "NotImplementedError",
     "evalue": "",
     "output_type": "error",
     "traceback": [
      "\u001b[0;31m---------------------------------------------------------------------------\u001b[0m",
      "\u001b[0;31mNotImplementedError\u001b[0m                       Traceback (most recent call last)",
      "\u001b[0;32m<ipython-input-40-1c690ed0749c>\u001b[0m in \u001b[0;36m<module>\u001b[0;34m()\u001b[0m\n\u001b[1;32m     29\u001b[0m \u001b[0mprint\u001b[0m\u001b[1;33m(\u001b[0m\u001b[0mcommon_items\u001b[0m\u001b[1;33m(\u001b[0m\u001b[1;33m[\u001b[0m\u001b[1;36m1\u001b[0m\u001b[1;33m,\u001b[0m \u001b[1;36m1\u001b[0m\u001b[1;33m,\u001b[0m \u001b[1;36m2\u001b[0m\u001b[1;33m,\u001b[0m \u001b[1;36m2\u001b[0m\u001b[1;33m]\u001b[0m\u001b[1;33m,\u001b[0m \u001b[1;33m[\u001b[0m\u001b[1;36m1\u001b[0m\u001b[1;33m,\u001b[0m \u001b[1;36m2\u001b[0m\u001b[1;33m,\u001b[0m \u001b[1;36m3\u001b[0m\u001b[1;33m,\u001b[0m \u001b[1;36m4\u001b[0m\u001b[1;33m]\u001b[0m\u001b[1;33m)\u001b[0m\u001b[1;33m)\u001b[0m\u001b[1;33m\u001b[0m\u001b[0m\n\u001b[1;32m     30\u001b[0m \u001b[1;33m\u001b[0m\u001b[0m\n\u001b[0;32m---> 31\u001b[0;31m \u001b[1;32mraise\u001b[0m \u001b[0mNotImplementedError\u001b[0m\u001b[1;33m(\u001b[0m\u001b[1;33m)\u001b[0m\u001b[1;33m\u001b[0m\u001b[0m\n\u001b[0m",
      "\u001b[0;31mNotImplementedError\u001b[0m: "
     ]
    }
   ],
   "source": [
    "def common_items(list1, list2):\n",
    "    \"\"\"Produce the set of common items in two lists.\n",
    "    \n",
    "    Given two lists, return a list of the common items shared between \n",
    "    the lists.\n",
    "\n",
    "    IMPORTANT: you may not use 'if ___ in ___' or the method 'index'.\n",
    "    \n",
    "    For example:\n",
    "        >>> sorted(common_items([1, 2, 3, 4], [1, 2]))\n",
    "        [1, 2]\n",
    "    If an item appears more than once in both lists, return it each\n",
    "    time:\n",
    "        >>> sorted(common_items([1, 2, 3, 4], [1, 1, 2, 2]))\n",
    "        [1, 1, 2, 2]\n",
    "    (And the order of which has the multiples shouldn't matter, either):\n",
    "        >>> sorted(common_items([1, 1, 2, 2], [1, 2, 3, 4]))\n",
    "        [1, 1, 2, 2]\n",
    "    \"\"\"\n",
    "# YOUR CODE HERE\n",
    "    list3=[]\n",
    "    for i in range(len(list1)) :\n",
    "        for j in range(len(list2)) :\n",
    "            if list1[i]==list2[j]:\n",
    "                list3.append(list1[i]) \n",
    "    return list3\n",
    "print(common_items([1, 2, 3, 4], [1, 2]))\n",
    "print(common_items([1, 2, 3, 4], [1, 1, 2, 2]))\n",
    "print(common_items([1, 1, 2, 2], [1, 2, 3, 4]))\n",
    "\n",
    "raise NotImplementedError()"
   ]
  },
  {
   "cell_type": "code",
   "execution_count": 0,
   "metadata": {
    "colab": {},
    "colab_type": "code",
    "collapsed": true,
    "deletable": false,
    "editable": false,
    "id": "5psdoVRAgFrZ",
    "nbgrader": {
     "checksum": "6a2ea1a86b5219c099427146f930d5ec",
     "grade": true,
     "grade_id": "cell-af602b7c95f3425b",
     "locked": true,
     "points": 1,
     "schema_version": 1,
     "solution": false
    }
   },
   "outputs": [],
   "source": [
    "####################################INTENTIONALLY BLANK FOR TESTING####################################"
   ]
  },
  {
   "cell_type": "code",
   "execution_count": 9,
   "metadata": {
    "colab": {},
    "colab_type": "code",
    "collapsed": false,
    "deletable": false,
    "id": "nQWoZifmgFs0",
    "nbgrader": {
     "checksum": "1c39f2568e8412943470386db1c9c8c3",
     "grade": false,
     "grade_id": "cell-1b237658152ec6c1",
     "locked": false,
     "schema_version": 1,
     "solution": true
    }
   },
   "outputs": [
    {
     "name": "stdout",
     "output_type": "stream",
     "text": [
      "{1, 2}\n",
      "{1, 2}\n"
     ]
    },
    {
     "ename": "NotImplementedError",
     "evalue": "",
     "output_type": "error",
     "traceback": [
      "\u001b[0;31m---------------------------------------------------------------------------\u001b[0m",
      "\u001b[0;31mNotImplementedError\u001b[0m                       Traceback (most recent call last)",
      "\u001b[0;32m<ipython-input-9-1b8bd49aca36>\u001b[0m in \u001b[0;36m<module>\u001b[0;34m()\u001b[0m\n\u001b[1;32m     26\u001b[0m \u001b[0mprint\u001b[0m\u001b[1;33m(\u001b[0m\u001b[0munique_common_items\u001b[0m\u001b[1;33m(\u001b[0m\u001b[1;33m[\u001b[0m\u001b[1;36m1\u001b[0m\u001b[1;33m,\u001b[0m \u001b[1;36m2\u001b[0m\u001b[1;33m,\u001b[0m \u001b[1;36m3\u001b[0m\u001b[1;33m,\u001b[0m \u001b[1;36m4\u001b[0m\u001b[1;33m]\u001b[0m\u001b[1;33m,\u001b[0m \u001b[1;33m[\u001b[0m\u001b[1;36m1\u001b[0m\u001b[1;33m,\u001b[0m \u001b[1;36m2\u001b[0m\u001b[1;33m]\u001b[0m\u001b[1;33m)\u001b[0m\u001b[1;33m)\u001b[0m\u001b[1;33m\u001b[0m\u001b[0m\n\u001b[1;32m     27\u001b[0m \u001b[0mprint\u001b[0m\u001b[1;33m(\u001b[0m\u001b[0munique_common_items\u001b[0m\u001b[1;33m(\u001b[0m\u001b[1;33m[\u001b[0m\u001b[1;36m1\u001b[0m\u001b[1;33m,\u001b[0m \u001b[1;36m2\u001b[0m\u001b[1;33m,\u001b[0m \u001b[1;36m3\u001b[0m\u001b[1;33m,\u001b[0m \u001b[1;36m4\u001b[0m\u001b[1;33m]\u001b[0m\u001b[1;33m,\u001b[0m \u001b[1;33m[\u001b[0m\u001b[1;36m1\u001b[0m\u001b[1;33m,\u001b[0m \u001b[1;36m1\u001b[0m\u001b[1;33m,\u001b[0m \u001b[1;36m2\u001b[0m\u001b[1;33m,\u001b[0m \u001b[1;36m2\u001b[0m\u001b[1;33m]\u001b[0m\u001b[1;33m)\u001b[0m\u001b[1;33m)\u001b[0m\u001b[1;33m\u001b[0m\u001b[0m\n\u001b[0;32m---> 28\u001b[0;31m \u001b[1;32mraise\u001b[0m \u001b[0mNotImplementedError\u001b[0m\u001b[1;33m(\u001b[0m\u001b[1;33m)\u001b[0m\u001b[1;33m\u001b[0m\u001b[0m\n\u001b[0m",
      "\u001b[0;31mNotImplementedError\u001b[0m: "
     ]
    }
   ],
   "source": [
    "def unique_common_items(list1, list2):\n",
    "    \"\"\"Produce the set of *unique* common items in two lists.\n",
    "\n",
    "    Given two lists, return a list of the *unique* common items shared between \n",
    "    the lists.\n",
    "\n",
    "    IMPORTANT: you may not use 'if ___ in ___' or the method 'index'.\n",
    "\n",
    "    Just like `common_items`, this should find [1, 2]:\n",
    "        >>> sorted(unique_common_items([1, 2, 3, 4], [1, 2]))\n",
    "        [1, 2]\n",
    "\n",
    "    However, now we only want unique items, so for these lists, don't show \n",
    "    more than 1 or 2 once:\n",
    "\n",
    "        >>> sorted(unique_common_items([1, 2, 3, 4], [1, 1, 2, 2]))\n",
    "        [1, 2]\n",
    "    \"\"\"\n",
    "# YOUR CODE HERE\n",
    "    set1= set()\n",
    "    for i in range(len(list1)) :\n",
    "        for j in range(len(list2)) :\n",
    "            if list1[i]==list2[j]:\n",
    "                set1.add(list1[i])   \n",
    "    return set1\n",
    "print(unique_common_items([1, 2, 3, 4], [1, 2]))\n",
    "print(unique_common_items([1, 2, 3, 4], [1, 1, 2, 2]))\n",
    "raise NotImplementedError()"
   ]
  },
  {
   "cell_type": "code",
   "execution_count": 0,
   "metadata": {
    "colab": {},
    "colab_type": "code",
    "collapsed": true,
    "deletable": false,
    "editable": false,
    "id": "0fTbeSyZgFuN",
    "nbgrader": {
     "checksum": "ddd2c7d380f9451f1819107f13a63406",
     "grade": true,
     "grade_id": "cell-42da43b784e498f2",
     "locked": true,
     "points": 1,
     "schema_version": 1,
     "solution": false
    }
   },
   "outputs": [],
   "source": [
    "####################################INTENTIONALLY BLANK FOR TESTING####################################"
   ]
  },
  {
   "cell_type": "code",
   "execution_count": 71,
   "metadata": {
    "colab": {
     "base_uri": "https://localhost:8080/",
     "height": 214
    },
    "colab_type": "code",
    "collapsed": false,
    "deletable": false,
    "executionInfo": {
     "elapsed": 1032,
     "status": "error",
     "timestamp": 1539982562285,
     "user": {
      "displayName": "Zahra Ichibi",
      "photoUrl": "",
      "userId": "06341730048308415799"
     },
     "user_tz": -60
    },
    "id": "bjtAxd05gFuk",
    "nbgrader": {
     "checksum": "c34eb45f44a310acb11950c95d2eb8fd",
     "grade": false,
     "grade_id": "cell-b8dcbf0bc0af08c2",
     "locked": false,
     "schema_version": 1,
     "solution": true
    },
    "outputId": "1d2ae5aa-008c-4b29-c1d7-cb995c266cf3"
   },
   "outputs": [
    {
     "name": "stdout",
     "output_type": "stream",
     "text": [
      "{(-1, 1), (-2, 2)}\n",
      "{(-1, 1), (-2, 2), (0, 0)}\n"
     ]
    },
    {
     "ename": "NotImplementedError",
     "evalue": "",
     "output_type": "error",
     "traceback": [
      "\u001b[0;31m---------------------------------------------------------------------------\u001b[0m",
      "\u001b[0;31mNotImplementedError\u001b[0m                       Traceback (most recent call last)",
      "\u001b[0;32m<ipython-input-71-8297a27f5848>\u001b[0m in \u001b[0;36m<module>\u001b[0;34m()\u001b[0m\n\u001b[1;32m     31\u001b[0m \u001b[0mprint\u001b[0m\u001b[1;33m(\u001b[0m\u001b[0msum_zero\u001b[0m\u001b[1;33m(\u001b[0m\u001b[1;33m[\u001b[0m\u001b[1;36m1\u001b[0m\u001b[1;33m,\u001b[0m \u001b[1;36m2\u001b[0m\u001b[1;33m,\u001b[0m \u001b[1;36m3\u001b[0m\u001b[1;33m,\u001b[0m \u001b[1;33m-\u001b[0m\u001b[1;36m2\u001b[0m\u001b[1;33m,\u001b[0m \u001b[1;33m-\u001b[0m\u001b[1;36m1\u001b[0m\u001b[1;33m]\u001b[0m\u001b[1;33m)\u001b[0m \u001b[1;33m)\u001b[0m\u001b[1;33m\u001b[0m\u001b[0m\n\u001b[1;32m     32\u001b[0m \u001b[0mprint\u001b[0m\u001b[1;33m(\u001b[0m\u001b[0msum_zero\u001b[0m\u001b[1;33m(\u001b[0m\u001b[1;33m[\u001b[0m\u001b[1;36m1\u001b[0m\u001b[1;33m,\u001b[0m \u001b[1;36m2\u001b[0m\u001b[1;33m,\u001b[0m \u001b[1;36m3\u001b[0m\u001b[1;33m,\u001b[0m \u001b[1;33m-\u001b[0m\u001b[1;36m2\u001b[0m\u001b[1;33m,\u001b[0m \u001b[1;33m-\u001b[0m\u001b[1;36m1\u001b[0m\u001b[1;33m,\u001b[0m \u001b[1;36m1\u001b[0m\u001b[1;33m,\u001b[0m \u001b[1;36m0\u001b[0m\u001b[1;33m,\u001b[0m \u001b[1;36m1\u001b[0m\u001b[1;33m,\u001b[0m \u001b[1;36m0\u001b[0m\u001b[1;33m]\u001b[0m\u001b[1;33m)\u001b[0m \u001b[1;33m)\u001b[0m\u001b[1;33m\u001b[0m\u001b[0m\n\u001b[0;32m---> 33\u001b[0;31m \u001b[1;32mraise\u001b[0m \u001b[0mNotImplementedError\u001b[0m\u001b[1;33m(\u001b[0m\u001b[1;33m)\u001b[0m\u001b[1;33m\u001b[0m\u001b[0m\n\u001b[0m",
      "\u001b[0;31mNotImplementedError\u001b[0m: "
     ]
    }
   ],
   "source": [
    "def sum_zero(list1):\n",
    "    \"\"\"Return set of x,y number pair lists from a list where x+y==0\n",
    "    Given a list of numbers, add up each individual pair of numbers.\n",
    "    Return a set of each pair of numbers that adds up to 0, where the smaller\n",
    "    value is the first in the pair.\n",
    "        \n",
    "    For example:\n",
    "        >>> sorted(sum_zero([1, 2, 3, -2, -1]) )\n",
    "        [[-2, 2], [-1, 1]]\n",
    "    \n",
    "    This should always be a unique list, even if there are\n",
    "    duplicates in the input list:\n",
    "    \n",
    "        >>> sorted( sum_zero([1, 2, 3, -2, -1, 1, 1]) )\n",
    "        [[-2, 2], [-1, 1]]\n",
    "    \n",
    "    Of course, if there are one or more zeros to pair together, \n",
    "    that's fine, too:\n",
    "        >>> sorted(sum_zero([1, 2, 3, -2, -1, 1, 0, 1, 0]) )\n",
    "        [[-2, 2], [-1, 1], [0, 0]]\n",
    "    \"\"\"\n",
    "# YOUR CODE HERE\n",
    "    list3=[]\n",
    "    set1=set()\n",
    "    for i in range(len(list1)) :\n",
    "        x=list1[i]\n",
    "        for j in range(len(list1)) :\n",
    "            if (list1[j]+x)==0 and list1[j]>=x :\n",
    "                 set1.add((x,list1[j]))\n",
    "    return set1\n",
    "print(sum_zero([1, 2, 3, -2, -1]) )\n",
    "print(sum_zero([1, 2, 3, -2, -1, 1, 0, 1, 0]) )\n",
    "raise NotImplementedError()"
   ]
  },
  {
   "cell_type": "code",
   "execution_count": 69,
   "metadata": {
    "colab": {},
    "colab_type": "code",
    "collapsed": true,
    "deletable": false,
    "editable": false,
    "id": "-hQVro2OgFvh",
    "nbgrader": {
     "checksum": "ad93506362f3d0151e53d8cba68035e4",
     "grade": true,
     "grade_id": "cell-85063429a77205b6",
     "locked": true,
     "points": 1,
     "schema_version": 1,
     "solution": false
    }
   },
   "outputs": [],
   "source": [
    "####################################INTENTIONALLY BLANK FOR TESTING####################################"
   ]
  },
  {
   "cell_type": "code",
   "execution_count": 44,
   "metadata": {
    "colab": {},
    "colab_type": "code",
    "collapsed": false,
    "deletable": false,
    "id": "Lw-JFXAugFwJ",
    "nbgrader": {
     "checksum": "67d730e1c20319a0139788d7653d9d30",
     "grade": false,
     "grade_id": "cell-c67204ecbed8311a",
     "locked": false,
     "schema_version": 1,
     "solution": true
    }
   },
   "outputs": [
    {
     "name": "stdout",
     "output_type": "stream",
     "text": [
      "['What', 'about', 'the', 'Spam', 'sausage', 'spam', 'bacon', 'tomato', 'and']\n",
      "['rose', 'is', 'a']\n",
      "['Rose', 'is', 'a', 'rose']\n"
     ]
    },
    {
     "ename": "NotImplementedError",
     "evalue": "",
     "output_type": "error",
     "traceback": [
      "\u001b[0;31m---------------------------------------------------------------------------\u001b[0m",
      "\u001b[0;31mNotImplementedError\u001b[0m                       Traceback (most recent call last)",
      "\u001b[0;32m<ipython-input-44-0895f9cdc1c6>\u001b[0m in \u001b[0;36m<module>\u001b[0;34m()\u001b[0m\n\u001b[1;32m     24\u001b[0m \u001b[0mprint\u001b[0m\u001b[1;33m(\u001b[0m\u001b[0mfind_duplicates\u001b[0m\u001b[1;33m(\u001b[0m\u001b[0mlist1\u001b[0m\u001b[1;33m)\u001b[0m\u001b[1;33m)\u001b[0m\u001b[1;33m\u001b[0m\u001b[0m\n\u001b[1;32m     25\u001b[0m \u001b[0mprint\u001b[0m\u001b[1;33m(\u001b[0m\u001b[0mfind_duplicates\u001b[0m\u001b[1;33m(\u001b[0m\u001b[0mlist2\u001b[0m\u001b[1;33m)\u001b[0m\u001b[1;33m)\u001b[0m\u001b[1;33m\u001b[0m\u001b[0m\n\u001b[0;32m---> 26\u001b[0;31m \u001b[1;32mraise\u001b[0m \u001b[0mNotImplementedError\u001b[0m\u001b[1;33m(\u001b[0m\u001b[1;33m)\u001b[0m\u001b[1;33m\u001b[0m\u001b[0m\n\u001b[0m",
      "\u001b[0;31mNotImplementedError\u001b[0m: "
     ]
    }
   ],
   "source": [
    "def find_duplicates(words):\n",
    "    \"\"\"Given a list of words, return the list with duplicates removed.\n",
    "    \n",
    "    For example:\n",
    "        >>> sorted(find_duplicates(\n",
    "        ...     [\"rose\", \"is\", \"a\", \"rose\", \"is\", \"a\", \"rose\"]))\n",
    "        ['a', 'is', 'rose']\n",
    "    \n",
    "    You should treat differently-capitalized words as different:\n",
    "        >>> sorted(find_duplicates(\n",
    "        ...     [\"Rose\", \"is\", \"a\", \"rose\", \"is\", \"a\", \"rose\"]))\n",
    "        ['Rose', 'a', 'is', 'rose']\n",
    "    \"\"\"\n",
    "# YOUR CODE HERE\n",
    "    list1 =[]\n",
    "    for i in range(len(words)) :\n",
    "          if words[i] not in list1 :\n",
    "            list1.append(words[i])\n",
    "    return list1\n",
    "list1=[\"rose\", \"is\", \"a\", \"rose\", \"is\", \"a\", \"rose\"]\n",
    "list= [\"What\", \"about\", \"the\", \"Spam\", \"sausage\", \"spam\", \"spam\", \"bacon\", \"spam\", \"tomato\", \"and\", \"spam\"]\n",
    "list2=[\"Rose\", \"is\", \"a\", \"rose\", \"is\", \"a\", \"rose\"]\n",
    "print(find_duplicates(list))\n",
    "print(find_duplicates(list1))\n",
    "print(find_duplicates(list2))\n",
    "raise NotImplementedError()"
   ]
  },
  {
   "cell_type": "code",
   "execution_count": 0,
   "metadata": {
    "colab": {},
    "colab_type": "code",
    "collapsed": true,
    "deletable": false,
    "editable": false,
    "id": "VHOJLck3gFwh",
    "nbgrader": {
     "checksum": "e1167dcdabeb7fd4363944e4a26d1768",
     "grade": true,
     "grade_id": "cell-4838d1b78d150602",
     "locked": true,
     "points": 1,
     "schema_version": 1,
     "solution": false
    }
   },
   "outputs": [],
   "source": [
    "####################################INTENTIONALLY BLANK FOR TESTING####################################"
   ]
  },
  {
   "cell_type": "code",
   "execution_count": 75,
   "metadata": {
    "colab": {},
    "colab_type": "code",
    "collapsed": false,
    "deletable": false,
    "id": "hbGUmBlugFw2",
    "nbgrader": {
     "checksum": "40c628af3b64ee8475e28dbc5ed0b6af",
     "grade": false,
     "grade_id": "cell-d9b3147e6db58779",
     "locked": false,
     "schema_version": 1,
     "solution": true
    }
   },
   "outputs": [
    {
     "name": "stdout",
     "output_type": "stream",
     "text": [
      "{2: 'ok, an', 5: 'apple', 1: 'a', 3: 'day'}\n",
      "{4: 'What, Spam, spam, spam, spam, spam', 5: 'about, bacon', 3: 'the, and', 7: 'sausage', 6: 'tomato'}\n"
     ]
    },
    {
     "ename": "NotImplementedError",
     "evalue": "",
     "output_type": "error",
     "traceback": [
      "\u001b[0;31m---------------------------------------------------------------------------\u001b[0m",
      "\u001b[0;31mNotImplementedError\u001b[0m                       Traceback (most recent call last)",
      "\u001b[0;32m<ipython-input-75-983e93d1679a>\u001b[0m in \u001b[0;36m<module>\u001b[0;34m()\u001b[0m\n\u001b[1;32m     21\u001b[0m \u001b[0mprint\u001b[0m\u001b[1;33m(\u001b[0m\u001b[0mword_length\u001b[0m\u001b[1;33m(\u001b[0m\u001b[0mlist1\u001b[0m\u001b[1;33m)\u001b[0m\u001b[1;33m)\u001b[0m\u001b[1;33m\u001b[0m\u001b[0m\n\u001b[1;32m     22\u001b[0m \u001b[0mprint\u001b[0m\u001b[1;33m(\u001b[0m\u001b[0mword_length\u001b[0m\u001b[1;33m(\u001b[0m\u001b[0mlist\u001b[0m\u001b[1;33m)\u001b[0m\u001b[1;33m)\u001b[0m\u001b[1;33m\u001b[0m\u001b[0m\n\u001b[0;32m---> 23\u001b[0;31m \u001b[1;32mraise\u001b[0m \u001b[0mNotImplementedError\u001b[0m\u001b[1;33m(\u001b[0m\u001b[1;33m)\u001b[0m\u001b[1;33m\u001b[0m\u001b[0m\n\u001b[0m",
      "\u001b[0;31mNotImplementedError\u001b[0m: "
     ]
    }
   ],
   "source": [
    "def word_length(words):\n",
    "    \"\"\"Given list of words, return list of ascending [(len, [words])].\n",
    "    Given a list of words, return a list of tuples, ordered by word-length.\n",
    "    Each tuple should have two items--the length of the words for that \n",
    "    word-length, and the list of words of that word length. Sort the \n",
    "    dictionary by shortest length to longest length words.\n",
    "    \n",
    "    For example:\n",
    "        >>> word_length([\"ok\", \"an\", \"apple\", \"a\", \"day\"])\n",
    "        [(1, ['a']), (2, ['ok', 'an']), (3, ['day']), (5, ['apple'])]\n",
    "\n",
    "\"\"\"\n",
    "    dict ={}\n",
    "    for i in range(len(words)) :\n",
    "        if len(words[i]) not in dict :\n",
    "            dict[len(words[i])] = ''.join(words[i])\n",
    "        else : dict[len(words[i])] += ', '+''.join(words[i])\n",
    "    return dict\n",
    "list1=  [\"ok\", \"an\", \"apple\", \"a\", \"day\"]\n",
    "list= [\"What\", \"about\", \"the\", \"Spam\", \"sausage\", \"spam\", \"spam\", \"bacon\", \"spam\", \"tomato\", \"and\", \"spam\"]\n",
    "print(word_length(list1))\n",
    "print(word_length(list))\n",
    "raise NotImplementedError()"
   ]
  },
  {
   "cell_type": "code",
   "execution_count": 56,
   "metadata": {
    "colab": {},
    "colab_type": "code",
    "collapsed": true,
    "deletable": false,
    "editable": false,
    "id": "fTCtEjYbgFxq",
    "nbgrader": {
     "checksum": "a70c60404d275141a03e3fa011e7b704",
     "grade": true,
     "grade_id": "cell-044d288559318786",
     "locked": true,
     "points": 1,
     "schema_version": 1,
     "solution": false
    }
   },
   "outputs": [],
   "source": [
    "####################################INTENTIONALLY BLANK FOR TESTING####################################"
   ]
  },
  {
   "cell_type": "code",
   "execution_count": 0,
   "metadata": {
    "colab": {},
    "colab_type": "code",
    "collapsed": true,
    "deletable": false,
    "id": "M2OGQzEsgFx9",
    "nbgrader": {
     "checksum": "059ab7ec22ee478707bbc4a9ad1136b0",
     "grade": false,
     "grade_id": "cell-aa16264440491cda",
     "locked": false,
     "schema_version": 1,
     "solution": true
    }
   },
   "outputs": [],
   "source": [
    "def adv_word_length_sorted_words(words):\n",
    "    \"\"\"Given list of words, return list of ascending [(len, [sorted-words])].\n",
    "    \n",
    "    Given a list of words, return a list of tuples, ordered by word-length.\n",
    "    Each tuple should have two items--the length of the words for that \n",
    "    word-length, and the list of words of that word length. The list of words\n",
    "    for that length should be sorted alphabetically.\n",
    "    \n",
    "    For example:\n",
    "        >>> adv_word_length_sorted_words([\"ok\", \"an\", \"apple\", \"a\", \"day\"])\n",
    "        [(1, ['a']), (2, ['an', 'ok']), (3, ['day']), (5, ['apple'])]\n",
    "    \"\"\"\n",
    "\n",
    "# YOUR CODE HERE\n",
    "    dict ={}\n",
    "    for i in range(len(words)) :\n",
    "        if len(words[i]) not in dict :\n",
    "            dict[len(words[i])] = ''.join(words[i])\n",
    "        else : dict[len(words[i])] += ', '+''.join(words[i])\n",
    "    return dict\n",
    "list1=  [\"ok\", \"an\", \"apple\", \"a\", \"day\"]\n",
    "list= [\"What\", \"about\", \"the\", \"Spam\", \"sausage\", \"spam\", \"spam\", \"bacon\", \"spam\", \"tomato\", \"and\", \"spam\"]\n",
    "print(adv_word_length_sorted_words(list1))\n",
    "print(adv_word_length_sorted_words(list))\n",
    "raise NotImplementedError()\n",
    "raise NotImplementedError()"
   ]
  },
  {
   "cell_type": "code",
   "execution_count": 0,
   "metadata": {
    "colab": {},
    "colab_type": "code",
    "collapsed": true,
    "deletable": false,
    "editable": false,
    "id": "z0ZM66ZDgFyN",
    "nbgrader": {
     "checksum": "7b80f039a34748e7a173eddeea1dd0fc",
     "grade": true,
     "grade_id": "cell-8ab8055da8a9a4d6",
     "locked": true,
     "points": 1,
     "schema_version": 1,
     "solution": false
    }
   },
   "outputs": [],
   "source": [
    "####################################INTENTIONALLY BLANK FOR TESTING####################################"
   ]
  },
  {
   "cell_type": "code",
   "execution_count": 21,
   "metadata": {
    "colab": {},
    "colab_type": "code",
    "collapsed": false,
    "deletable": false,
    "id": "bIsFsJCrgFy3",
    "nbgrader": {
     "checksum": "3b316d43059ffb17c2619f33815893c3",
     "grade": false,
     "grade_id": "cell-927da46837cffc7b",
     "locked": false,
     "schema_version": 1,
     "solution": true
    }
   },
   "outputs": [
    {
     "name": "stdout",
     "output_type": "stream",
     "text": [
      " me swabbie be not a matey\n",
      " me swabbie be not a man!\n"
     ]
    },
    {
     "ename": "NotImplementedError",
     "evalue": "",
     "output_type": "error",
     "traceback": [
      "\u001b[0;31m---------------------------------------------------------------------------\u001b[0m",
      "\u001b[0;31mNotImplementedError\u001b[0m                       Traceback (most recent call last)",
      "\u001b[0;32m<ipython-input-21-15736c50a2e8>\u001b[0m in \u001b[0;36m<module>\u001b[0;34m()\u001b[0m\n\u001b[1;32m     53\u001b[0m \u001b[0mprint\u001b[0m\u001b[1;33m(\u001b[0m\u001b[0mpirate_talk\u001b[0m\u001b[1;33m(\u001b[0m\u001b[1;34m\"my student is not a man\"\u001b[0m\u001b[1;33m)\u001b[0m\u001b[1;33m)\u001b[0m\u001b[1;33m\u001b[0m\u001b[0m\n\u001b[1;32m     54\u001b[0m \u001b[0mprint\u001b[0m\u001b[1;33m(\u001b[0m\u001b[0mpirate_talk\u001b[0m\u001b[1;33m(\u001b[0m\u001b[1;34m\"my student is not a man!\"\u001b[0m\u001b[1;33m)\u001b[0m\u001b[1;33m)\u001b[0m\u001b[1;33m\u001b[0m\u001b[0m\n\u001b[0;32m---> 55\u001b[0;31m \u001b[1;32mraise\u001b[0m \u001b[0mNotImplementedError\u001b[0m\u001b[1;33m(\u001b[0m\u001b[1;33m)\u001b[0m\u001b[1;33m\u001b[0m\u001b[0m\n\u001b[0m",
      "\u001b[0;31mNotImplementedError\u001b[0m: "
     ]
    }
   ],
   "source": [
    "def pirate_talk(phrase):\n",
    "    \"\"\"Translate phrase to pirate talk.\n",
    "    \n",
    "    Given a phrase, translate each word to the Pirate-speak equivalent.\n",
    "    Words that cannot be translated into Pirate-speak should pass through\n",
    "    unchanged. Return the resulting sentence.\n",
    "   \n",
    "    Here's a table of English to Pirate translations:\n",
    "    English     Pirate\n",
    "    ----------  ----------------\n",
    "    sir         matey\n",
    "    hotel       fleabag inn\n",
    "    student     swabbie\n",
    "    boy         matey\n",
    "    madam       proud beauty\n",
    "    professor   foul blaggart\n",
    "    restaurant  galley\n",
    "    your        yer\n",
    "    excuse      arr\n",
    "    students    swabbies\n",
    "    are         be\n",
    "    lawyer      foul blaggart\n",
    "    the         th'\n",
    "    restroom    head\n",
    "    my          me\n",
    "    hello       avast\n",
    "    is          be\n",
    "    man         matey\n",
    "    \n",
    "    For example:\n",
    "        >>> pirate_talk(\"my student is not a man\")\n",
    "        'me swabbie be not a matey'\n",
    "    \n",
    "    You should treat words with punctuation as if they were different\n",
    "    words:\n",
    "        >>> pirate_talk(\"my student is not a man!\")\n",
    "        'me swabbie be not a man!'\n",
    "    \"\"\"\n",
    "# YOUR CODE HERE\n",
    "    table_translation = {'sir': 'matey', 'hotel': 'fleabag inn', 'student': 'swabbie', 'boy': 'matey',\n",
    "                         'madam': 'proud beauty', 'professor': 'foul blaggart', 'restaurant': 'galley'\n",
    "                        , 'your': 'yer', 'excuse': 'arr', 'students': 'swabbies'\n",
    "                        , 'are': 'be', 'lawyer': 'foul blaggart', 'the': 'th\\'', 'lawyer': 'be', 'restroom': 'head'\n",
    "                        , 'my': 'me', 'hello': 'avast', 'is': 'be', 'man': 'matey'}\n",
    "    words=[]\n",
    "    words=phrase.split()\n",
    "    code =''\n",
    "    for i in range(len(words)) :\n",
    "        if words[i] in table_translation :\n",
    "            code += ' ' + table_translation[words[i]]\n",
    "        else : code += ' ' + words[i]\n",
    "    return code\n",
    "print(pirate_talk(\"my student is not a man\"))\n",
    "print(pirate_talk(\"my student is not a man!\"))\n",
    "raise NotImplementedError()"
   ]
  },
  {
   "cell_type": "code",
   "execution_count": 0,
   "metadata": {
    "colab": {},
    "colab_type": "code",
    "collapsed": true,
    "deletable": false,
    "editable": false,
    "id": "VNB1af77gFzJ",
    "nbgrader": {
     "checksum": "c4d82015f0ba58353ed1b76b371f3a06",
     "grade": true,
     "grade_id": "cell-cf29f5e4edbcc701",
     "locked": true,
     "points": 1,
     "schema_version": 1,
     "solution": false
    }
   },
   "outputs": [],
   "source": [
    "####################################INTENTIONALLY BLANK FOR TESTING####################################"
   ]
  }
 ],
 "metadata": {
  "accelerator": "GPU",
  "colab": {
   "collapsed_sections": [],
   "name": "homework_1_python_skills.ipynb",
   "provenance": [],
   "version": "0.3.2"
  },
  "kernelspec": {
   "display_name": "Python 3",
   "language": "python",
   "name": "python3"
  },
  "language_info": {
   "codemirror_mode": {
    "name": "ipython",
    "version": 3
   },
   "file_extension": ".py",
   "mimetype": "text/x-python",
   "name": "python",
   "nbconvert_exporter": "python",
   "pygments_lexer": "ipython3",
   "version": "3.6.0"
  }
 },
 "nbformat": 4,
 "nbformat_minor": 0
}
